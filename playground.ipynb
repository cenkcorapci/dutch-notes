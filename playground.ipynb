{
 "cells": [
  {
   "cell_type": "code",
   "execution_count": 1,
   "metadata": {
    "ExecuteTime": {
     "end_time": "2023-07-14T08:26:27.058049Z",
     "start_time": "2023-07-14T08:26:27.050202Z"
    }
   },
   "outputs": [],
   "source": [
    "import re\n",
    "import pandas as pd\n",
    "import glob\n",
    "from tqdm import tqdm"
   ]
  },
  {
   "cell_type": "code",
   "execution_count": 2,
   "metadata": {
    "ExecuteTime": {
     "end_time": "2023-07-14T08:26:27.273478Z",
     "start_time": "2023-07-14T08:26:27.269685Z"
    }
   },
   "outputs": [],
   "source": [
    "\n",
    "def find_markdown_tables(file_path):\n",
    "    with open(file_path, 'r') as file:\n",
    "        markdown_text = file.read()\n",
    "\n",
    "    table_pattern = r'\\|.*\\|\\n\\|.*\\|[-:]+\\|\\n((\\|.*\\|\\n)+)'\n",
    "    tables = re.findall(table_pattern, markdown_text)\n",
    "\n",
    "    markdown_tables = []\n",
    "    for table in tables:\n",
    "        table_rows = table[0].strip().split('\\n')\n",
    "\n",
    "        data = [row.strip().split('|') for row in table_rows]\n",
    "        data = [[c.strip() for c in r if len(c.strip()) > 0] for r in data]\n",
    "        df = pd.DataFrame(data)\n",
    "        markdown_tables.append(df)\n",
    "\n",
    "    return markdown_tables"
   ]
  },
  {
   "cell_type": "code",
   "execution_count": null,
   "metadata": {
    "ExecuteTime": {
     "end_time": "2023-07-14T08:26:27.499622Z",
     "start_time": "2023-07-14T08:26:27.491617Z"
    }
   },
   "outputs": [],
   "source": [
    "total_word_count = 0\n",
    "table_count = 0\n",
    "for markdown_file_path in tqdm(glob.glob(\"/**/*.md\",recursive=True)):\n",
    "    tables = find_markdown_tables(markdown_file_path)\n",
    "    table_count += len(tables)\n",
    "    for table in tables:\n",
    "        total_word_count += len(table)\n",
    "total_word_count, table_count"
   ]
  },
  {
   "cell_type": "code",
   "execution_count": 4,
   "metadata": {
    "ExecuteTime": {
     "end_time": "2023-07-14T08:26:27.857811Z",
     "start_time": "2023-07-14T08:26:27.853955Z"
    }
   },
   "outputs": [
    {
     "data": {
      "text/plain": [
       "['README.md']"
      ]
     },
     "execution_count": 4,
     "metadata": {},
     "output_type": "execute_result"
    }
   ],
   "source": [
    "glob.glob(\"*.md\")"
   ]
  },
  {
   "cell_type": "code",
   "execution_count": null,
   "metadata": {},
   "outputs": [],
   "source": []
  }
 ],
 "metadata": {
  "kernelspec": {
   "display_name": "Python 3 (ipykernel)",
   "language": "python",
   "name": "python3"
  },
  "language_info": {
   "codemirror_mode": {
    "name": "ipython",
    "version": 3
   },
   "file_extension": ".py",
   "mimetype": "text/x-python",
   "name": "python",
   "nbconvert_exporter": "python",
   "pygments_lexer": "ipython3",
   "version": "3.9.12"
  }
 },
 "nbformat": 4,
 "nbformat_minor": 1
}
